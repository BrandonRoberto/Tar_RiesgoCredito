{
  "nbformat": 4,
  "nbformat_minor": 0,
  "metadata": {
    "colab": {
      "provenance": [],
      "toc_visible": true
    },
    "kernelspec": {
      "name": "python3",
      "display_name": "Python 3"
    },
    "language_info": {
      "name": "python"
    }
  },
  "cells": [
    {
      "cell_type": "code",
      "execution_count": 1,
      "metadata": {
        "colab": {
          "base_uri": "https://localhost:8080/"
        },
        "id": "JZSo31yN27uJ",
        "outputId": "70017469-e01d-45d2-ef40-3e62807dec22"
      },
      "outputs": [
        {
          "output_type": "stream",
          "name": "stdout",
          "text": [
            "Looking in indexes: https://pypi.org/simple, https://us-python.pkg.dev/colab-wheels/public/simple/\n",
            "Collecting yfinance\n",
            "  Downloading yfinance-0.1.87-py2.py3-none-any.whl (29 kB)\n",
            "Requirement already satisfied: multitasking>=0.0.7 in /usr/local/lib/python3.8/dist-packages (from yfinance) (0.0.11)\n",
            "Requirement already satisfied: numpy>=1.15 in /usr/local/lib/python3.8/dist-packages (from yfinance) (1.21.6)\n",
            "Requirement already satisfied: appdirs>=1.4.4 in /usr/local/lib/python3.8/dist-packages (from yfinance) (1.4.4)\n",
            "Requirement already satisfied: pandas>=0.24.0 in /usr/local/lib/python3.8/dist-packages (from yfinance) (1.3.5)\n",
            "Collecting requests>=2.26\n",
            "  Downloading requests-2.28.1-py3-none-any.whl (62 kB)\n",
            "\u001b[K     |████████████████████████████████| 62 kB 412 kB/s \n",
            "\u001b[?25hRequirement already satisfied: lxml>=4.5.1 in /usr/local/lib/python3.8/dist-packages (from yfinance) (4.9.1)\n",
            "Requirement already satisfied: pytz>=2017.3 in /usr/local/lib/python3.8/dist-packages (from pandas>=0.24.0->yfinance) (2022.6)\n",
            "Requirement already satisfied: python-dateutil>=2.7.3 in /usr/local/lib/python3.8/dist-packages (from pandas>=0.24.0->yfinance) (2.8.2)\n",
            "Requirement already satisfied: six>=1.5 in /usr/local/lib/python3.8/dist-packages (from python-dateutil>=2.7.3->pandas>=0.24.0->yfinance) (1.15.0)\n",
            "Requirement already satisfied: certifi>=2017.4.17 in /usr/local/lib/python3.8/dist-packages (from requests>=2.26->yfinance) (2022.9.24)\n",
            "Requirement already satisfied: charset-normalizer<3,>=2 in /usr/local/lib/python3.8/dist-packages (from requests>=2.26->yfinance) (2.1.1)\n",
            "Requirement already satisfied: idna<4,>=2.5 in /usr/local/lib/python3.8/dist-packages (from requests>=2.26->yfinance) (2.10)\n",
            "Requirement already satisfied: urllib3<1.27,>=1.21.1 in /usr/local/lib/python3.8/dist-packages (from requests>=2.26->yfinance) (1.24.3)\n",
            "Installing collected packages: requests, yfinance\n",
            "  Attempting uninstall: requests\n",
            "    Found existing installation: requests 2.23.0\n",
            "    Uninstalling requests-2.23.0:\n",
            "      Successfully uninstalled requests-2.23.0\n",
            "Successfully installed requests-2.28.1 yfinance-0.1.87\n"
          ]
        }
      ],
      "source": [
        "!pip install yfinance\n",
        "import yfinance as yf"
      ]
    },
    {
      "cell_type": "code",
      "source": [
        "start = '2020-01-01'\n",
        "symbol = 'AEROMEX.MX'\n",
        "stock_data = yf.Ticker(symbol)\n",
        "# stock_data = stock_data.history(start=start)#, end=end) \n"
      ],
      "metadata": {
        "id": "FtK97hgZ3dn-"
      },
      "execution_count": 5,
      "outputs": []
    },
    {
      "cell_type": "code",
      "source": [
        "stock_data.info"
      ],
      "metadata": {
        "colab": {
          "base_uri": "https://localhost:8080/"
        },
        "id": "37HaC4SgEvMs",
        "outputId": "e4182b24-d3a0-4006-b762-1d433cbf9a29"
      },
      "execution_count": 6,
      "outputs": [
        {
          "output_type": "execute_result",
          "data": {
            "text/plain": [
              "{'zip': '06500',\n",
              " 'sector': 'Industrials',\n",
              " 'fullTimeEmployees': 13868,\n",
              " 'longBusinessSummary': 'Grupo Aeroméxico, S.A.B. de C.V., through its subsidiaries, provides commercial aviation services for passengers and cargo. It provides services to 43 destinations in Mexico and 42 international destinations from Mexico. The company also promotes passenger loyalty programs. As of July 19, 2019, it had a fleet of 122 airplanes that include Boeing 787 and 737 jet airliners and Embraer 170 and 190 models. The company was founded in 1934 and is headquartered in Mexico City, Mexico.',\n",
              " 'city': 'Mexico City',\n",
              " 'phone': '55 9 132 4000',\n",
              " 'country': 'Mexico',\n",
              " 'companyOfficers': [],\n",
              " 'website': 'https://www.aeromexico.com',\n",
              " 'maxAge': 1,\n",
              " 'address1': 'Paseo de la Reforma 243',\n",
              " 'industry': 'Airlines',\n",
              " 'address2': 'Piso 25 Colonia Cuauhtémoc',\n",
              " 'ebitdaMargins': 0.03249,\n",
              " 'profitMargins': -0.19434,\n",
              " 'grossMargins': 0.21525998,\n",
              " 'operatingCashflow': -9824749568,\n",
              " 'revenueGrowth': 0.617,\n",
              " 'operatingMargins': 0.00379,\n",
              " 'ebitda': 2237046016,\n",
              " 'targetLowPrice': 391,\n",
              " 'recommendationKey': 'buy',\n",
              " 'grossProfits': 8209439000,\n",
              " 'freeCashflow': 1542616064,\n",
              " 'targetMedianPrice': 391,\n",
              " 'currentPrice': 164,\n",
              " 'earningsGrowth': None,\n",
              " 'currentRatio': 0.5,\n",
              " 'returnOnAssets': 0.0016300001,\n",
              " 'numberOfAnalystOpinions': 1,\n",
              " 'targetMeanPrice': 391,\n",
              " 'debtToEquity': None,\n",
              " 'returnOnEquity': None,\n",
              " 'targetHighPrice': 391,\n",
              " 'totalCash': 15378715648,\n",
              " 'totalDebt': 69260812288,\n",
              " 'totalRevenue': 68841955328,\n",
              " 'totalCashPerShare': 112.727,\n",
              " 'financialCurrency': 'MXN',\n",
              " 'revenuePerShare': 276.169,\n",
              " 'quickRatio': 0.428,\n",
              " 'recommendationMean': 2,\n",
              " 'exchange': 'MEX',\n",
              " 'shortName': 'GRUPO AEROMEXICO SAB DE CV',\n",
              " 'longName': 'Grupo Aeroméxico, S.A.B. de C.V.',\n",
              " 'exchangeTimezoneName': 'America/Mexico_City',\n",
              " 'exchangeTimezoneShortName': 'CST',\n",
              " 'isEsgPopulated': False,\n",
              " 'gmtOffSetMilliseconds': '-21600000',\n",
              " 'quoteType': 'EQUITY',\n",
              " 'symbol': 'AEROMEX.MX',\n",
              " 'messageBoardId': 'finmb_130367928',\n",
              " 'market': 'mx_market',\n",
              " 'annualHoldingsTurnover': None,\n",
              " 'enterpriseToRevenue': 1.108,\n",
              " 'beta3Year': None,\n",
              " 'enterpriseToEbitda': 34.09,\n",
              " '52WeekChange': 39.493828,\n",
              " 'morningStarRiskRating': None,\n",
              " 'forwardEps': 10.51,\n",
              " 'revenueQuarterlyGrowth': None,\n",
              " 'sharesOutstanding': 136424000,\n",
              " 'fundInceptionDate': None,\n",
              " 'annualReportExpenseRatio': None,\n",
              " 'totalAssets': None,\n",
              " 'bookValue': -133.855,\n",
              " 'sharesShort': None,\n",
              " 'sharesPercentSharesOut': None,\n",
              " 'fundFamily': None,\n",
              " 'lastFiscalYearEnd': 1640908800,\n",
              " 'heldPercentInstitutions': 0.2282,\n",
              " 'netIncomeToCommon': -13378617344,\n",
              " 'trailingEps': -129.63,\n",
              " 'lastDividendValue': None,\n",
              " 'SandP52WeekChange': -0.1573345,\n",
              " 'priceToBook': None,\n",
              " 'heldPercentInsiders': 0,\n",
              " 'nextFiscalYearEnd': 1703980800,\n",
              " 'yield': None,\n",
              " 'mostRecentQuarter': 1664496000,\n",
              " 'shortRatio': None,\n",
              " 'sharesShortPreviousMonthDate': None,\n",
              " 'floatShares': 136418502,\n",
              " 'beta': -6.289185,\n",
              " 'enterpriseValue': 76260696064,\n",
              " 'priceHint': 2,\n",
              " 'threeYearAverageReturn': None,\n",
              " 'lastSplitDate': None,\n",
              " 'lastSplitFactor': None,\n",
              " 'legalType': None,\n",
              " 'lastDividendDate': None,\n",
              " 'morningStarOverallRating': None,\n",
              " 'earningsQuarterlyGrowth': None,\n",
              " 'priceToSalesTrailing12Months': 0.32499856,\n",
              " 'dateShortInterest': None,\n",
              " 'pegRatio': None,\n",
              " 'ytdReturn': None,\n",
              " 'forwardPE': 15.604186,\n",
              " 'lastCapGain': None,\n",
              " 'shortPercentOfFloat': None,\n",
              " 'sharesShortPriorMonth': None,\n",
              " 'impliedSharesOutstanding': 0,\n",
              " 'category': None,\n",
              " 'fiveYearAverageReturn': None,\n",
              " 'previousClose': 164,\n",
              " 'regularMarketOpen': 0,\n",
              " 'twoHundredDayAverage': 218.95874,\n",
              " 'trailingAnnualDividendYield': 0,\n",
              " 'payoutRatio': 0,\n",
              " 'volume24Hr': None,\n",
              " 'regularMarketDayHigh': 164,\n",
              " 'navPrice': None,\n",
              " 'averageDailyVolume10Day': 617,\n",
              " 'regularMarketPreviousClose': 164,\n",
              " 'fiftyDayAverage': 173.9114,\n",
              " 'trailingAnnualDividendRate': 0,\n",
              " 'open': 0,\n",
              " 'toCurrency': None,\n",
              " 'averageVolume10days': 617,\n",
              " 'expireDate': None,\n",
              " 'algorithm': None,\n",
              " 'dividendRate': None,\n",
              " 'exDividendDate': None,\n",
              " 'circulatingSupply': None,\n",
              " 'startDate': None,\n",
              " 'regularMarketDayLow': 164,\n",
              " 'currency': 'MXN',\n",
              " 'regularMarketVolume': 25,\n",
              " 'lastMarket': None,\n",
              " 'maxSupply': None,\n",
              " 'openInterest': None,\n",
              " 'marketCap': 22373535744,\n",
              " 'volumeAllCurrencies': None,\n",
              " 'strikePrice': None,\n",
              " 'averageVolume': 2555,\n",
              " 'dayLow': 164,\n",
              " 'ask': 160.72,\n",
              " 'askSize': 389800,\n",
              " 'volume': 25,\n",
              " 'fiftyTwoWeekHigh': 488,\n",
              " 'fromCurrency': None,\n",
              " 'fiveYearAvgDividendYield': None,\n",
              " 'fiftyTwoWeekLow': 0.3,\n",
              " 'bid': 159,\n",
              " 'tradeable': False,\n",
              " 'dividendYield': None,\n",
              " 'bidSize': 87400,\n",
              " 'dayHigh': 164,\n",
              " 'coinMarketCapLink': None,\n",
              " 'regularMarketPrice': 164,\n",
              " 'preMarketPrice': None,\n",
              " 'logo_url': 'https://logo.clearbit.com/aeromexico.com',\n",
              " 'trailingPegRatio': None}"
            ]
          },
          "metadata": {},
          "execution_count": 6
        }
      ]
    },
    {
      "cell_type": "code",
      "source": [
        "Acc=stock_data.info[\"sharesOutstanding\"]\n",
        "Kp=stock_data.info[\"enterpriseValue\"]\n",
        "Dp=stock_data.info[\"totalDebt\"]"
      ],
      "metadata": {
        "id": "HSxyKIj3RaTu"
      },
      "execution_count": 7,
      "outputs": []
    },
    {
      "cell_type": "code",
      "source": [
        "Acc=stock_data.info[\"sharesOutstanding\"]\n",
        "Kp=stock_data.info[\"enterpriseValue\"]\n",
        "Dp=stock_data.info[\"totalDebt\"]\n",
        "# print(stock_data.balance_sheet)\n",
        "import pandas as pd\n",
        "bs=pd.DataFrame(stock_data.balance_sheet)\n",
        "K_0=bs[[\"2021-12-31\"]].loc[\"Total Stockholder Equity\"][0]\n",
        "# bs[\"Total Stockholder Equity\"]\n",
        "D_0=bs[[\"2021-12-31\"]].loc[\"Total Liab\"][0]\n",
        "\n",
        "stock_data.balance_sheet\n"
      ],
      "metadata": {
        "colab": {
          "base_uri": "https://localhost:8080/",
          "height": 855
        },
        "id": "CDQakV4BEtxn",
        "outputId": "b25980d7-f019-4167-ab4e-8516fb83cf45"
      },
      "execution_count": 8,
      "outputs": [
        {
          "output_type": "execute_result",
          "data": {
            "text/plain": [
              "                                                2021-12-31    2020-12-31  \\\n",
              "Intangible Assets                             1.511858e+09  1.529305e+09   \n",
              "Capital Surplus                               1.092474e+09  1.092474e+09   \n",
              "Total Liab                                    1.413543e+11  1.126862e+11   \n",
              "Total Stockholder Equity                     -5.451122e+10 -3.295607e+10   \n",
              "Minority Interest                             4.872000e+06  4.406000e+06   \n",
              "Other Current Liab                            4.294249e+10  1.183399e+10   \n",
              "Total Assets                                  8.684796e+10  7.973458e+10   \n",
              "Common Stock                                  3.544643e+09  3.544643e+09   \n",
              "Other Current Assets                          1.358325e+09  1.231812e+09   \n",
              "Retained Earnings                            -6.119169e+10 -4.241013e+10   \n",
              "Other Liab                                    5.001592e+09  6.179180e+09   \n",
              "Gains Losses Not Affecting Retained Earnings  2.043355e+09  4.816951e+09   \n",
              "Other Assets                                  9.406175e+09  8.945337e+09   \n",
              "Cash                                          1.938045e+10  7.381822e+09   \n",
              "Total Current Liabilities                     9.938123e+10  9.677145e+10   \n",
              "Deferred Long Term Asset Charges              6.189926e+09  3.830473e+09   \n",
              "Short Long Term Debt                          2.716045e+10  1.914028e+10   \n",
              "Other Stockholder Equity                      2.043355e+09  4.816951e+09   \n",
              "Property Plant Equipment                      4.940540e+10  5.525223e+10   \n",
              "Total Current Assets                          2.635438e+10  1.374178e+10   \n",
              "Long Term Investments                         1.701580e+08  2.659210e+08   \n",
              "Net Tangible Assets                          -5.602308e+10 -3.448537e+10   \n",
              "Net Receivables                               4.026363e+09  3.768536e+09   \n",
              "Long Term Debt                                7.426265e+09  9.735609e+09   \n",
              "Inventory                                     1.589241e+09  1.359612e+09   \n",
              "Accounts Payable                              1.449627e+10  1.980806e+10   \n",
              "\n",
              "                                                2019-12-31    2018-12-31  \n",
              "Intangible Assets                             2.017703e+09  2.113376e+09  \n",
              "Capital Surplus                               1.083752e+09  1.057577e+09  \n",
              "Total Liab                                    9.521174e+10  6.511857e+10  \n",
              "Total Stockholder Equity                      5.772648e+09  1.165061e+10  \n",
              "Minority Interest                             4.041000e+06  3.675000e+06  \n",
              "Other Current Liab                            7.797004e+09  6.699905e+09  \n",
              "Total Assets                                  1.009884e+11  7.677285e+10  \n",
              "Common Stock                                  3.539960e+09  3.533570e+09  \n",
              "Other Current Assets                          2.460959e+09  2.973145e+09  \n",
              "Retained Earnings                             1.193200e+08  4.780581e+09  \n",
              "Other Liab                                    4.600336e+09  3.878379e+09  \n",
              "Gains Losses Not Affecting Retained Earnings  1.029616e+09  2.278882e+09  \n",
              "Other Assets                                  1.722866e+10  1.435610e+10  \n",
              "Cash                                          6.974826e+09  7.686629e+09  \n",
              "Total Current Liabilities                     4.168043e+10  3.278112e+10  \n",
              "Deferred Long Term Asset Charges              4.025246e+09  1.254965e+09  \n",
              "Short Long Term Debt                          7.463565e+09  6.568491e+09  \n",
              "Other Stockholder Equity                      1.029616e+09  2.278882e+09  \n",
              "Property Plant Equipment                      6.386695e+10  4.037137e+10  \n",
              "Total Current Assets                          1.709960e+10  1.903813e+10  \n",
              "Long Term Investments                         7.755110e+08  8.938730e+08  \n",
              "Net Tangible Assets                           3.754945e+09  9.537234e+09  \n",
              "Net Receivables                               6.063250e+09  6.830673e+09  \n",
              "Long Term Debt                                1.070551e+10  7.287247e+09  \n",
              "Inventory                                     1.600570e+09  1.547679e+09  \n",
              "Accounts Payable                              1.495989e+10  1.465321e+10  "
            ],
            "text/html": [
              "\n",
              "  <div id=\"df-7d5558c8-5ffa-45ae-8f9d-e8bd18395558\">\n",
              "    <div class=\"colab-df-container\">\n",
              "      <div>\n",
              "<style scoped>\n",
              "    .dataframe tbody tr th:only-of-type {\n",
              "        vertical-align: middle;\n",
              "    }\n",
              "\n",
              "    .dataframe tbody tr th {\n",
              "        vertical-align: top;\n",
              "    }\n",
              "\n",
              "    .dataframe thead th {\n",
              "        text-align: right;\n",
              "    }\n",
              "</style>\n",
              "<table border=\"1\" class=\"dataframe\">\n",
              "  <thead>\n",
              "    <tr style=\"text-align: right;\">\n",
              "      <th></th>\n",
              "      <th>2021-12-31</th>\n",
              "      <th>2020-12-31</th>\n",
              "      <th>2019-12-31</th>\n",
              "      <th>2018-12-31</th>\n",
              "    </tr>\n",
              "  </thead>\n",
              "  <tbody>\n",
              "    <tr>\n",
              "      <th>Intangible Assets</th>\n",
              "      <td>1.511858e+09</td>\n",
              "      <td>1.529305e+09</td>\n",
              "      <td>2.017703e+09</td>\n",
              "      <td>2.113376e+09</td>\n",
              "    </tr>\n",
              "    <tr>\n",
              "      <th>Capital Surplus</th>\n",
              "      <td>1.092474e+09</td>\n",
              "      <td>1.092474e+09</td>\n",
              "      <td>1.083752e+09</td>\n",
              "      <td>1.057577e+09</td>\n",
              "    </tr>\n",
              "    <tr>\n",
              "      <th>Total Liab</th>\n",
              "      <td>1.413543e+11</td>\n",
              "      <td>1.126862e+11</td>\n",
              "      <td>9.521174e+10</td>\n",
              "      <td>6.511857e+10</td>\n",
              "    </tr>\n",
              "    <tr>\n",
              "      <th>Total Stockholder Equity</th>\n",
              "      <td>-5.451122e+10</td>\n",
              "      <td>-3.295607e+10</td>\n",
              "      <td>5.772648e+09</td>\n",
              "      <td>1.165061e+10</td>\n",
              "    </tr>\n",
              "    <tr>\n",
              "      <th>Minority Interest</th>\n",
              "      <td>4.872000e+06</td>\n",
              "      <td>4.406000e+06</td>\n",
              "      <td>4.041000e+06</td>\n",
              "      <td>3.675000e+06</td>\n",
              "    </tr>\n",
              "    <tr>\n",
              "      <th>Other Current Liab</th>\n",
              "      <td>4.294249e+10</td>\n",
              "      <td>1.183399e+10</td>\n",
              "      <td>7.797004e+09</td>\n",
              "      <td>6.699905e+09</td>\n",
              "    </tr>\n",
              "    <tr>\n",
              "      <th>Total Assets</th>\n",
              "      <td>8.684796e+10</td>\n",
              "      <td>7.973458e+10</td>\n",
              "      <td>1.009884e+11</td>\n",
              "      <td>7.677285e+10</td>\n",
              "    </tr>\n",
              "    <tr>\n",
              "      <th>Common Stock</th>\n",
              "      <td>3.544643e+09</td>\n",
              "      <td>3.544643e+09</td>\n",
              "      <td>3.539960e+09</td>\n",
              "      <td>3.533570e+09</td>\n",
              "    </tr>\n",
              "    <tr>\n",
              "      <th>Other Current Assets</th>\n",
              "      <td>1.358325e+09</td>\n",
              "      <td>1.231812e+09</td>\n",
              "      <td>2.460959e+09</td>\n",
              "      <td>2.973145e+09</td>\n",
              "    </tr>\n",
              "    <tr>\n",
              "      <th>Retained Earnings</th>\n",
              "      <td>-6.119169e+10</td>\n",
              "      <td>-4.241013e+10</td>\n",
              "      <td>1.193200e+08</td>\n",
              "      <td>4.780581e+09</td>\n",
              "    </tr>\n",
              "    <tr>\n",
              "      <th>Other Liab</th>\n",
              "      <td>5.001592e+09</td>\n",
              "      <td>6.179180e+09</td>\n",
              "      <td>4.600336e+09</td>\n",
              "      <td>3.878379e+09</td>\n",
              "    </tr>\n",
              "    <tr>\n",
              "      <th>Gains Losses Not Affecting Retained Earnings</th>\n",
              "      <td>2.043355e+09</td>\n",
              "      <td>4.816951e+09</td>\n",
              "      <td>1.029616e+09</td>\n",
              "      <td>2.278882e+09</td>\n",
              "    </tr>\n",
              "    <tr>\n",
              "      <th>Other Assets</th>\n",
              "      <td>9.406175e+09</td>\n",
              "      <td>8.945337e+09</td>\n",
              "      <td>1.722866e+10</td>\n",
              "      <td>1.435610e+10</td>\n",
              "    </tr>\n",
              "    <tr>\n",
              "      <th>Cash</th>\n",
              "      <td>1.938045e+10</td>\n",
              "      <td>7.381822e+09</td>\n",
              "      <td>6.974826e+09</td>\n",
              "      <td>7.686629e+09</td>\n",
              "    </tr>\n",
              "    <tr>\n",
              "      <th>Total Current Liabilities</th>\n",
              "      <td>9.938123e+10</td>\n",
              "      <td>9.677145e+10</td>\n",
              "      <td>4.168043e+10</td>\n",
              "      <td>3.278112e+10</td>\n",
              "    </tr>\n",
              "    <tr>\n",
              "      <th>Deferred Long Term Asset Charges</th>\n",
              "      <td>6.189926e+09</td>\n",
              "      <td>3.830473e+09</td>\n",
              "      <td>4.025246e+09</td>\n",
              "      <td>1.254965e+09</td>\n",
              "    </tr>\n",
              "    <tr>\n",
              "      <th>Short Long Term Debt</th>\n",
              "      <td>2.716045e+10</td>\n",
              "      <td>1.914028e+10</td>\n",
              "      <td>7.463565e+09</td>\n",
              "      <td>6.568491e+09</td>\n",
              "    </tr>\n",
              "    <tr>\n",
              "      <th>Other Stockholder Equity</th>\n",
              "      <td>2.043355e+09</td>\n",
              "      <td>4.816951e+09</td>\n",
              "      <td>1.029616e+09</td>\n",
              "      <td>2.278882e+09</td>\n",
              "    </tr>\n",
              "    <tr>\n",
              "      <th>Property Plant Equipment</th>\n",
              "      <td>4.940540e+10</td>\n",
              "      <td>5.525223e+10</td>\n",
              "      <td>6.386695e+10</td>\n",
              "      <td>4.037137e+10</td>\n",
              "    </tr>\n",
              "    <tr>\n",
              "      <th>Total Current Assets</th>\n",
              "      <td>2.635438e+10</td>\n",
              "      <td>1.374178e+10</td>\n",
              "      <td>1.709960e+10</td>\n",
              "      <td>1.903813e+10</td>\n",
              "    </tr>\n",
              "    <tr>\n",
              "      <th>Long Term Investments</th>\n",
              "      <td>1.701580e+08</td>\n",
              "      <td>2.659210e+08</td>\n",
              "      <td>7.755110e+08</td>\n",
              "      <td>8.938730e+08</td>\n",
              "    </tr>\n",
              "    <tr>\n",
              "      <th>Net Tangible Assets</th>\n",
              "      <td>-5.602308e+10</td>\n",
              "      <td>-3.448537e+10</td>\n",
              "      <td>3.754945e+09</td>\n",
              "      <td>9.537234e+09</td>\n",
              "    </tr>\n",
              "    <tr>\n",
              "      <th>Net Receivables</th>\n",
              "      <td>4.026363e+09</td>\n",
              "      <td>3.768536e+09</td>\n",
              "      <td>6.063250e+09</td>\n",
              "      <td>6.830673e+09</td>\n",
              "    </tr>\n",
              "    <tr>\n",
              "      <th>Long Term Debt</th>\n",
              "      <td>7.426265e+09</td>\n",
              "      <td>9.735609e+09</td>\n",
              "      <td>1.070551e+10</td>\n",
              "      <td>7.287247e+09</td>\n",
              "    </tr>\n",
              "    <tr>\n",
              "      <th>Inventory</th>\n",
              "      <td>1.589241e+09</td>\n",
              "      <td>1.359612e+09</td>\n",
              "      <td>1.600570e+09</td>\n",
              "      <td>1.547679e+09</td>\n",
              "    </tr>\n",
              "    <tr>\n",
              "      <th>Accounts Payable</th>\n",
              "      <td>1.449627e+10</td>\n",
              "      <td>1.980806e+10</td>\n",
              "      <td>1.495989e+10</td>\n",
              "      <td>1.465321e+10</td>\n",
              "    </tr>\n",
              "  </tbody>\n",
              "</table>\n",
              "</div>\n",
              "      <button class=\"colab-df-convert\" onclick=\"convertToInteractive('df-7d5558c8-5ffa-45ae-8f9d-e8bd18395558')\"\n",
              "              title=\"Convert this dataframe to an interactive table.\"\n",
              "              style=\"display:none;\">\n",
              "        \n",
              "  <svg xmlns=\"http://www.w3.org/2000/svg\" height=\"24px\"viewBox=\"0 0 24 24\"\n",
              "       width=\"24px\">\n",
              "    <path d=\"M0 0h24v24H0V0z\" fill=\"none\"/>\n",
              "    <path d=\"M18.56 5.44l.94 2.06.94-2.06 2.06-.94-2.06-.94-.94-2.06-.94 2.06-2.06.94zm-11 1L8.5 8.5l.94-2.06 2.06-.94-2.06-.94L8.5 2.5l-.94 2.06-2.06.94zm10 10l.94 2.06.94-2.06 2.06-.94-2.06-.94-.94-2.06-.94 2.06-2.06.94z\"/><path d=\"M17.41 7.96l-1.37-1.37c-.4-.4-.92-.59-1.43-.59-.52 0-1.04.2-1.43.59L10.3 9.45l-7.72 7.72c-.78.78-.78 2.05 0 2.83L4 21.41c.39.39.9.59 1.41.59.51 0 1.02-.2 1.41-.59l7.78-7.78 2.81-2.81c.8-.78.8-2.07 0-2.86zM5.41 20L4 18.59l7.72-7.72 1.47 1.35L5.41 20z\"/>\n",
              "  </svg>\n",
              "      </button>\n",
              "      \n",
              "  <style>\n",
              "    .colab-df-container {\n",
              "      display:flex;\n",
              "      flex-wrap:wrap;\n",
              "      gap: 12px;\n",
              "    }\n",
              "\n",
              "    .colab-df-convert {\n",
              "      background-color: #E8F0FE;\n",
              "      border: none;\n",
              "      border-radius: 50%;\n",
              "      cursor: pointer;\n",
              "      display: none;\n",
              "      fill: #1967D2;\n",
              "      height: 32px;\n",
              "      padding: 0 0 0 0;\n",
              "      width: 32px;\n",
              "    }\n",
              "\n",
              "    .colab-df-convert:hover {\n",
              "      background-color: #E2EBFA;\n",
              "      box-shadow: 0px 1px 2px rgba(60, 64, 67, 0.3), 0px 1px 3px 1px rgba(60, 64, 67, 0.15);\n",
              "      fill: #174EA6;\n",
              "    }\n",
              "\n",
              "    [theme=dark] .colab-df-convert {\n",
              "      background-color: #3B4455;\n",
              "      fill: #D2E3FC;\n",
              "    }\n",
              "\n",
              "    [theme=dark] .colab-df-convert:hover {\n",
              "      background-color: #434B5C;\n",
              "      box-shadow: 0px 1px 3px 1px rgba(0, 0, 0, 0.15);\n",
              "      filter: drop-shadow(0px 1px 2px rgba(0, 0, 0, 0.3));\n",
              "      fill: #FFFFFF;\n",
              "    }\n",
              "  </style>\n",
              "\n",
              "      <script>\n",
              "        const buttonEl =\n",
              "          document.querySelector('#df-7d5558c8-5ffa-45ae-8f9d-e8bd18395558 button.colab-df-convert');\n",
              "        buttonEl.style.display =\n",
              "          google.colab.kernel.accessAllowed ? 'block' : 'none';\n",
              "\n",
              "        async function convertToInteractive(key) {\n",
              "          const element = document.querySelector('#df-7d5558c8-5ffa-45ae-8f9d-e8bd18395558');\n",
              "          const dataTable =\n",
              "            await google.colab.kernel.invokeFunction('convertToInteractive',\n",
              "                                                     [key], {});\n",
              "          if (!dataTable) return;\n",
              "\n",
              "          const docLinkHtml = 'Like what you see? Visit the ' +\n",
              "            '<a target=\"_blank\" href=https://colab.research.google.com/notebooks/data_table.ipynb>data table notebook</a>'\n",
              "            + ' to learn more about interactive tables.';\n",
              "          element.innerHTML = '';\n",
              "          dataTable['output_type'] = 'display_data';\n",
              "          await google.colab.output.renderOutput(dataTable, element);\n",
              "          const docLink = document.createElement('div');\n",
              "          docLink.innerHTML = docLinkHtml;\n",
              "          element.appendChild(docLink);\n",
              "        }\n",
              "      </script>\n",
              "    </div>\n",
              "  </div>\n",
              "  "
            ]
          },
          "metadata": {},
          "execution_count": 8
        }
      ]
    },
    {
      "cell_type": "code",
      "source": [
        "print(Kp, \"vs\", K_0)\n",
        "print(Kp/K_0)\n",
        "print(Dp, \"vs\", D_0)\n",
        "print(Dp/D_0)"
      ],
      "metadata": {
        "colab": {
          "base_uri": "https://localhost:8080/"
        },
        "id": "Kg92GSxl2gLS",
        "outputId": "7cdb0b66-550f-40d8-cf16-ce2f282cd55b"
      },
      "execution_count": 9,
      "outputs": [
        {
          "output_type": "stream",
          "name": "stdout",
          "text": [
            "76260696064 vs -54511217000.0\n",
            "-1.3989908914343263\n",
            "69260812288 vs 141354310000.0\n",
            "0.489980194364077\n"
          ]
        }
      ]
    },
    {
      "cell_type": "code",
      "source": [
        "import pandas as pd\n",
        "import numpy as np\n",
        "from statistics import stdev\n",
        "\n",
        "df = pd.DataFrame()\n",
        "\n",
        "hist=stock_data.history(period=\"max\", auto_adjust=True)\n",
        "\n",
        "df['ds'] = hist.index\n",
        "df['y'] = hist['Close'].values\n",
        "\n",
        "df.tail()"
      ],
      "metadata": {
        "colab": {
          "base_uri": "https://localhost:8080/",
          "height": 204
        },
        "id": "5lUKVPf91ibr",
        "outputId": "3c9c8652-a554-4694-d89d-f0f5280838b2"
      },
      "execution_count": 10,
      "outputs": [
        {
          "output_type": "execute_result",
          "data": {
            "text/plain": [
              "                            ds      y\n",
              "2913 2022-12-02 00:00:00-06:00  164.0\n",
              "2914 2022-12-05 00:00:00-06:00  164.0\n",
              "2915 2022-12-06 00:00:00-06:00  164.0\n",
              "2916 2022-12-07 00:00:00-06:00  164.0\n",
              "2917 2022-12-08 00:00:00-06:00  164.0"
            ],
            "text/html": [
              "\n",
              "  <div id=\"df-e8ea4a02-a481-4e69-8492-3609cbbf6576\">\n",
              "    <div class=\"colab-df-container\">\n",
              "      <div>\n",
              "<style scoped>\n",
              "    .dataframe tbody tr th:only-of-type {\n",
              "        vertical-align: middle;\n",
              "    }\n",
              "\n",
              "    .dataframe tbody tr th {\n",
              "        vertical-align: top;\n",
              "    }\n",
              "\n",
              "    .dataframe thead th {\n",
              "        text-align: right;\n",
              "    }\n",
              "</style>\n",
              "<table border=\"1\" class=\"dataframe\">\n",
              "  <thead>\n",
              "    <tr style=\"text-align: right;\">\n",
              "      <th></th>\n",
              "      <th>ds</th>\n",
              "      <th>y</th>\n",
              "    </tr>\n",
              "  </thead>\n",
              "  <tbody>\n",
              "    <tr>\n",
              "      <th>2913</th>\n",
              "      <td>2022-12-02 00:00:00-06:00</td>\n",
              "      <td>164.0</td>\n",
              "    </tr>\n",
              "    <tr>\n",
              "      <th>2914</th>\n",
              "      <td>2022-12-05 00:00:00-06:00</td>\n",
              "      <td>164.0</td>\n",
              "    </tr>\n",
              "    <tr>\n",
              "      <th>2915</th>\n",
              "      <td>2022-12-06 00:00:00-06:00</td>\n",
              "      <td>164.0</td>\n",
              "    </tr>\n",
              "    <tr>\n",
              "      <th>2916</th>\n",
              "      <td>2022-12-07 00:00:00-06:00</td>\n",
              "      <td>164.0</td>\n",
              "    </tr>\n",
              "    <tr>\n",
              "      <th>2917</th>\n",
              "      <td>2022-12-08 00:00:00-06:00</td>\n",
              "      <td>164.0</td>\n",
              "    </tr>\n",
              "  </tbody>\n",
              "</table>\n",
              "</div>\n",
              "      <button class=\"colab-df-convert\" onclick=\"convertToInteractive('df-e8ea4a02-a481-4e69-8492-3609cbbf6576')\"\n",
              "              title=\"Convert this dataframe to an interactive table.\"\n",
              "              style=\"display:none;\">\n",
              "        \n",
              "  <svg xmlns=\"http://www.w3.org/2000/svg\" height=\"24px\"viewBox=\"0 0 24 24\"\n",
              "       width=\"24px\">\n",
              "    <path d=\"M0 0h24v24H0V0z\" fill=\"none\"/>\n",
              "    <path d=\"M18.56 5.44l.94 2.06.94-2.06 2.06-.94-2.06-.94-.94-2.06-.94 2.06-2.06.94zm-11 1L8.5 8.5l.94-2.06 2.06-.94-2.06-.94L8.5 2.5l-.94 2.06-2.06.94zm10 10l.94 2.06.94-2.06 2.06-.94-2.06-.94-.94-2.06-.94 2.06-2.06.94z\"/><path d=\"M17.41 7.96l-1.37-1.37c-.4-.4-.92-.59-1.43-.59-.52 0-1.04.2-1.43.59L10.3 9.45l-7.72 7.72c-.78.78-.78 2.05 0 2.83L4 21.41c.39.39.9.59 1.41.59.51 0 1.02-.2 1.41-.59l7.78-7.78 2.81-2.81c.8-.78.8-2.07 0-2.86zM5.41 20L4 18.59l7.72-7.72 1.47 1.35L5.41 20z\"/>\n",
              "  </svg>\n",
              "      </button>\n",
              "      \n",
              "  <style>\n",
              "    .colab-df-container {\n",
              "      display:flex;\n",
              "      flex-wrap:wrap;\n",
              "      gap: 12px;\n",
              "    }\n",
              "\n",
              "    .colab-df-convert {\n",
              "      background-color: #E8F0FE;\n",
              "      border: none;\n",
              "      border-radius: 50%;\n",
              "      cursor: pointer;\n",
              "      display: none;\n",
              "      fill: #1967D2;\n",
              "      height: 32px;\n",
              "      padding: 0 0 0 0;\n",
              "      width: 32px;\n",
              "    }\n",
              "\n",
              "    .colab-df-convert:hover {\n",
              "      background-color: #E2EBFA;\n",
              "      box-shadow: 0px 1px 2px rgba(60, 64, 67, 0.3), 0px 1px 3px 1px rgba(60, 64, 67, 0.15);\n",
              "      fill: #174EA6;\n",
              "    }\n",
              "\n",
              "    [theme=dark] .colab-df-convert {\n",
              "      background-color: #3B4455;\n",
              "      fill: #D2E3FC;\n",
              "    }\n",
              "\n",
              "    [theme=dark] .colab-df-convert:hover {\n",
              "      background-color: #434B5C;\n",
              "      box-shadow: 0px 1px 3px 1px rgba(0, 0, 0, 0.15);\n",
              "      filter: drop-shadow(0px 1px 2px rgba(0, 0, 0, 0.3));\n",
              "      fill: #FFFFFF;\n",
              "    }\n",
              "  </style>\n",
              "\n",
              "      <script>\n",
              "        const buttonEl =\n",
              "          document.querySelector('#df-e8ea4a02-a481-4e69-8492-3609cbbf6576 button.colab-df-convert');\n",
              "        buttonEl.style.display =\n",
              "          google.colab.kernel.accessAllowed ? 'block' : 'none';\n",
              "\n",
              "        async function convertToInteractive(key) {\n",
              "          const element = document.querySelector('#df-e8ea4a02-a481-4e69-8492-3609cbbf6576');\n",
              "          const dataTable =\n",
              "            await google.colab.kernel.invokeFunction('convertToInteractive',\n",
              "                                                     [key], {});\n",
              "          if (!dataTable) return;\n",
              "\n",
              "          const docLinkHtml = 'Like what you see? Visit the ' +\n",
              "            '<a target=\"_blank\" href=https://colab.research.google.com/notebooks/data_table.ipynb>data table notebook</a>'\n",
              "            + ' to learn more about interactive tables.';\n",
              "          element.innerHTML = '';\n",
              "          dataTable['output_type'] = 'display_data';\n",
              "          await google.colab.output.renderOutput(dataTable, element);\n",
              "          const docLink = document.createElement('div');\n",
              "          docLink.innerHTML = docLinkHtml;\n",
              "          element.appendChild(docLink);\n",
              "        }\n",
              "      </script>\n",
              "    </div>\n",
              "  </div>\n",
              "  "
            ]
          },
          "metadata": {},
          "execution_count": 10
        }
      ]
    },
    {
      "cell_type": "code",
      "source": [
        "Delta_A = df[df.ds<=\"2021-12-31\"]['y'].pct_change(1) # 1 for ONE DAY lookback\n",
        "vol_A=stdev(Delta_A[Delta_A.notnull()])*np.sqrt(252)\n",
        "\n",
        "vol_A"
      ],
      "metadata": {
        "colab": {
          "base_uri": "https://localhost:8080/"
        },
        "id": "It4s-uE52T13",
        "outputId": "dbf88686-1b26-4b6f-8e71-63ceb4d44186"
      },
      "execution_count": 11,
      "outputs": [
        {
          "output_type": "execute_result",
          "data": {
            "text/plain": [
              "0.4653646303231242"
            ]
          },
          "metadata": {},
          "execution_count": 11
        }
      ]
    },
    {
      "cell_type": "code",
      "source": [
        "df[df.ds==\"2021-12-31\"]['y']*Acc"
      ],
      "metadata": {
        "id": "bTdfbE5JWDTT",
        "outputId": "5cb692ad-b7e9-430c-ef80-2a88403a3d48",
        "colab": {
          "base_uri": "https://localhost:8080/"
        }
      },
      "execution_count": 12,
      "outputs": [
        {
          "output_type": "execute_result",
          "data": {
            "text/plain": [
              "2680    3.792587e+08\n",
              "Name: y, dtype: float64"
            ]
          },
          "metadata": {},
          "execution_count": 12
        }
      ]
    },
    {
      "cell_type": "code",
      "source": [
        "A_0=df[df.ds==\"2021-12-31\"]['y']\n",
        "A_0= A_0.values[0]*Acc\n",
        "print(A_0)\n",
        "\n",
        "\n",
        "print(A_0/Kp)\n",
        "\n",
        "print(K_0)\n",
        "print(A_0/np.array(K_0))\n",
        "# print(K/A)\n",
        "\n",
        "r=.1\n",
        "T=1\n"
      ],
      "metadata": {
        "colab": {
          "base_uri": "https://localhost:8080/"
        },
        "id": "-hW2WEi38oOM",
        "outputId": "5e4d4b01-47bb-4630-80c2-07169cc81479"
      },
      "execution_count": 18,
      "outputs": [
        {
          "output_type": "stream",
          "name": "stdout",
          "text": [
            "379258716.09687805\n",
            "0.0049731871812262775\n",
            "76260696064\n",
            "0.0049731871812262775\n"
          ]
        }
      ]
    },
    {
      "cell_type": "code",
      "source": [
        "from scipy.optimize import fsolve\n",
        "from scipy.stats import norm\n",
        "import numpy as np\n",
        "x=np.array([D_0,vol_A])\n",
        "\n",
        "K_0=Kp\n",
        "\n",
        "A_0=A_0*1/2\n",
        "\n",
        "#Función para estimar vol_k y D\n",
        "def G(x):\n",
        "  vol_k = x[1]\n",
        "  D = x[0]\n",
        "  F=np.zeros(2)\n",
        "  F[0]=A_0-K_0*norm.cdf((np.log(K_0/D)+(r+0.5*vol_k**2)*T)/(vol_k*np.sqrt(T)),0,1)+D*np.exp(-r*T)*norm.cdf((np.log(K_0/D)+(r-0.5*vol_k**2)*T)/(vol_k*np.sqrt(T)),0,1)\n",
        "  F[1]=A_0*vol_A-vol_k*K_0*norm.cdf((np.log(K_0/D)+(r+0.5*vol_k**2)*T)/(vol_k*np.sqrt(T))) \n",
        "  return F\n",
        "\n",
        "\n",
        "ss=fsolve(G,x,full_output=True)\n",
        "\n",
        "print(ss)\n",
        "\n",
        "# !pip install gekko\n",
        "\n",
        "# from gekko import GEKKO\n",
        "# m=GEKKO()\n",
        "# D,vol_k=[m.Var(1) for i in range(2)]\n",
        "# m.Equations([A_0-K_0*norm.cdf((np.log(K_0/D)+(r+0.5*vol_k**2)*T)/(vol_k*np.sqrt(T)),0,1)+D*np.exp(-r*T)*norm.cdf((np.log(K_0/D)+(r-0.5*vol_k**2)*T)/(vol_k*np.sqrt(T)),0,1)==0, A_0*vol_A-vol_k*K_0*norm.cdf((np.log(K_0/D)+(r+0.5*vol_k**2)*T)/(vol_k*np.sqrt(T))) ==0 ])\n",
        "\n",
        "# m.solve(disp=False)\n",
        "# print(D.value,vol_k.value)\n",
        "\n",
        "\n",
        "print(G(ss[0]))\n",
        "\n",
        "\n",
        "\n",
        "D=ss[0][0]\n",
        "vol_k=ss[0][1]\n",
        "\n",
        "# print(D/D_0)\n",
        "# print(vol_A/vol_K)\n",
        "\n",
        "\n",
        "# #K_0=164370\n",
        "\n",
        "# ss=multiroot(G,x,positive = TRUE) #RESOLVER EL SISTEMA.\n",
        "\n",
        "# D=ss$root[1]\n",
        "# vol_k=ss$root[2]\n",
        "# ss$root[1]/D_0\n",
        "# vol_A/ss$root[2]\n",
        "# G(c(D,vol_k))\n",
        "#Probabilidad de incumplimiento\n",
        "PD_merton=1-norm.cdf((np.log(K_0/D)+(r+0.5*vol_k**2)*T)/(vol_k*np.sqrt(T)))\n",
        "print(PD_merton)"
      ],
      "metadata": {
        "colab": {
          "base_uri": "https://localhost:8080/"
        },
        "id": "IBOk-TJnHK7J",
        "outputId": "0fa77130-033a-4a63-b202-85b5e0fea507"
      },
      "execution_count": 19,
      "outputs": [
        {
          "output_type": "stream",
          "name": "stdout",
          "text": [
            "(array([8.40721587e+10, 1.17779738e-03]), {'nfev': 38, 'fjac': array([[-0.99954505,  0.03016105],\n",
            "       [-0.03016105, -0.99954505]]), 'r': array([-9.32780327e-01,  3.20956173e+09,  6.51936930e+10]), 'qtf': array([ 66.14252896, -81.55614405]), 'fvec': array([-0.91700745,  1.42525379])}, 1, 'The solution converged.')\n",
            "[-0.91700745  1.42525379]\n",
            "0.017511237841470018\n"
          ]
        }
      ]
    },
    {
      "cell_type": "code",
      "source": [
        "D=ss[0][0]\n",
        "vol_k=ss[0][1]\n",
        "\n",
        "PD_merton=1-norm.cdf((np.log(K_0/D)+(r+0.5*vol_k**2)*T)/(vol_k*np.sqrt(T)))\n",
        "print(PD_merton)"
      ],
      "metadata": {
        "colab": {
          "base_uri": "https://localhost:8080/"
        },
        "id": "XS4u-Ue_y3m9",
        "outputId": "63d8defd-e274-42e7-8900-10f1de350040"
      },
      "execution_count": 20,
      "outputs": [
        {
          "output_type": "stream",
          "name": "stdout",
          "text": [
            "0.017511237841470018\n"
          ]
        }
      ]
    },
    {
      "cell_type": "code",
      "source": [
        "0.000000028340294555562195"
      ],
      "metadata": {
        "id": "ROVWsrdtXeJw",
        "outputId": "59b3ffd4-1c53-43f2-a7fb-cdd30f5fe36b",
        "colab": {
          "base_uri": "https://localhost:8080/"
        }
      },
      "execution_count": 21,
      "outputs": [
        {
          "output_type": "execute_result",
          "data": {
            "text/plain": [
              "2.8340294555562195e-08"
            ]
          },
          "metadata": {},
          "execution_count": 21
        }
      ]
    },
    {
      "cell_type": "markdown",
      "source": [
        "## Conclusiones\n",
        "\n",
        "1. Verificar el valor de $A_0$, que no sea mucho mayor que $K_0$.\n",
        "2. Verificar el valor de la deuda."
      ],
      "metadata": {
        "id": "mWMi2-zCzBnI"
      }
    },
    {
      "cell_type": "markdown",
      "source": [
        "# KMV\n"
      ],
      "metadata": {
        "id": "pTppO640zTvX"
      }
    },
    {
      "cell_type": "markdown",
      "source": [
        "En KMV se encuentra el valor de $K_0$ y $\\sigma_K$, dados los demás parámetros."
      ],
      "metadata": {
        "id": "KdnamzpAzjwf"
      }
    },
    {
      "cell_type": "code",
      "source": [
        "print(\"A_0:\", A_0)\n",
        "print(\"Valor de K_0\", K_0)\n",
        "print(\"Valor de vol_A\", vol_A)\n",
        "print(\"Valor de Deuda Actual\", D_0)\n",
        "print(\"Tasa libre de riesgo\", r)\n",
        "print(\"Temporalidad\", T)"
      ],
      "metadata": {
        "colab": {
          "base_uri": "https://localhost:8080/"
        },
        "id": "Che8UpUCzVTM",
        "outputId": "70a15643-2271-4601-a16f-03f952699b3a"
      },
      "execution_count": 22,
      "outputs": [
        {
          "output_type": "stream",
          "name": "stdout",
          "text": [
            "A_0: 189629358.04843903\n",
            "Valor de K_0 76260696064\n",
            "Valor de vol_A 0.4653646303231242\n",
            "Valor de Deuda Actual 141354310000.0\n",
            "Tasa libre de riesgo 0.1\n",
            "Temporalidad 1\n"
          ]
        }
      ]
    },
    {
      "cell_type": "code",
      "source": [
        "K_0=Kp\n",
        "\n",
        "x=np.array([K_0,vol_A])\n",
        "\n",
        "D=D_0*7\n",
        "#A_0=A_0*1/2\n",
        "\n",
        "#Función para estimar vol_k y K_0\n",
        "def G_kmv(x):\n",
        "  vol_k = x[1]\n",
        "  K_0 = x[0]  #modificar el valor inicial de K\n",
        "  F=np.zeros(2)\n",
        "  F[0]=A_0-K_0*norm.cdf((np.log(K_0/D)+(r+0.5*vol_k**2)*T)/(vol_k*np.sqrt(T)),0,1)+D*np.exp(-r*T)*norm.cdf((np.log(K_0/D)+(r-0.5*vol_k**2)*T)/(vol_k*np.sqrt(T)),0,1)\n",
        "  F[1]=A_0*vol_A-vol_k*K_0*norm.cdf((np.log(K_0/D)+(r+0.5*vol_k**2)*T)/(vol_k*np.sqrt(T))) \n",
        "  return F\n",
        "\n",
        "\n",
        "ss=fsolve(G_kmv,x,full_output=True)\n",
        "\n",
        "print(ss)\n",
        "\n",
        "\n",
        "\n",
        "\n",
        "\n",
        "K_e=ss[0][0]\n",
        "vol_k=ss[0][1]\n",
        "print(\"Cociente K_0/D_0\", K_e/D_0)\n",
        "print(\"Cociente vol_K/vol_A\",vol_k/vol_A)\n",
        "print(\"Valor de solución en función:\")\n",
        "G_kmv(ss[0])\n",
        "\n",
        "DI=(K_e-D)/(vol_k*K_e)\n",
        "print(\"DI\")\n",
        "DI\n",
        "EDF=norm.cdf(-DI,0,1)\n",
        "print(\"EDF Normal\")\n",
        "EDF\n"
      ],
      "metadata": {
        "colab": {
          "base_uri": "https://localhost:8080/"
        },
        "id": "CqGTc-jj0Ac3",
        "outputId": "996bfbff-e0df-41ff-a3ce-1bb9248e60ec"
      },
      "execution_count": 17,
      "outputs": [
        {
          "output_type": "stream",
          "name": "stdout",
          "text": [
            "(array([7.62606961e+10, 4.65364630e-01]), {'nfev': 15, 'fjac': array([[-0.02782383, -0.99961284],\n",
            "       [ 0.99961284, -0.02782383]]), 'r': array([ 1.89086445e+01,  7.00425666e+12, -3.69653629e+03]), 'qtf': array([-9.34846164e+07,  1.87099990e+08]), 'fvec': array([1.89628653e+08, 8.82425848e+07])}, 5, 'The iteration is not making good progress, as measured by the \\n  improvement from the last ten iterations.')\n",
            "Cociente K_0/D_0 0.5395003241429285\n",
            "Cociente vol_K/vol_A 1.0\n",
            "Valor de solución en función:\n",
            "DI\n",
            "EDF Normal\n"
          ]
        },
        {
          "output_type": "execute_result",
          "data": {
            "text/plain": [
              "1.0"
            ]
          },
          "metadata": {},
          "execution_count": 17
        }
      ]
    },
    {
      "cell_type": "markdown",
      "source": [
        "## Conclusiones\n",
        "\n",
        "Hace más sentido utilizar KMV cuando $A_0>K_0$, y tiene la ventaja de poder utilizar una deuda \"objetivo\", para calcular una probabilidad de incumplimiento."
      ],
      "metadata": {
        "id": "z4wozuec2OPp"
      }
    }
  ]
}